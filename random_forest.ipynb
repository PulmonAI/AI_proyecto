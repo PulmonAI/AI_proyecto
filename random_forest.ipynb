{
 "cells": [
  {
   "cell_type": "code",
   "execution_count": 1,
   "metadata": {},
   "outputs": [],
   "source": [
    "import pandas as pd\n",
    "from sklearn.ensemble import RandomForestClassifier, HistGradientBoostingClassifier\n",
    "from sklearn.metrics import accuracy_score #confusion_matrix, precision_score, recall_score, ConfusionMatrixDisplay\n",
    "from sklearn.model_selection import RandomizedSearchCV, train_test_split, KFold, cross_val_score \n",
    "from scipy.stats import randint\n",
    "from sklearn.impute import SimpleImputer\n",
    "from sklearn.preprocessing import StandardScaler  \n"
   ]
  },
  {
   "cell_type": "code",
   "execution_count": 2,
   "metadata": {},
   "outputs": [],
   "source": [
    "url = \"http://dibresources.jcbose.ac.in/ssaha4/pulmopred/public/training.csv.txt\"\n",
    "ds = pd.read_csv(url)\n",
    "ds = ds[~ds['Diagnosis'].isin(['DPLD', 'OSA', 'Sarcodiosis','Chest Pain'])]\n",
    "ds = ds.drop(columns = ['Label'])\n",
    "X_without_diagnosis = ds.drop('Diagnosis', axis = 1)\n",
    "\n",
    "X = X_without_diagnosis\n",
    "Y = ds['Diagnosis']\n"
   ]
  },
  {
   "cell_type": "code",
   "execution_count": 3,
   "metadata": {},
   "outputs": [
    {
     "name": "stdout",
     "output_type": "stream",
     "text": [
      "FEV1 Pre-BD Value     0\n",
      "FEV1 Pre-BD Pred      1\n",
      "FEV1 Post-BD Value    3\n",
      "FEV1 Post-BD Pred     2\n",
      "FVC Pre-BD Value      1\n",
      "FVC Pre-BD Pred       1\n",
      "FVC Post-BD Value     1\n",
      "FVC Post-BD Pred      3\n",
      "FEF Pre-BD Value      3\n",
      "FEF Pre-BD Pred       5\n",
      "FEF Post-BD Value     4\n",
      "FEF Post-BD Pred      5\n",
      "Diagnosis             0\n",
      "dtype: int64\n"
     ]
    }
   ],
   "source": [
    "#X_without_diagnosis.head()\n",
    "#ds.info()\n",
    "print(ds.isnull().sum())"
   ]
  },
  {
   "cell_type": "code",
   "execution_count": 4,
   "metadata": {},
   "outputs": [],
   "source": [
    "X_train, X_test, y_train, y_test = train_test_split(X, Y, test_size=0.3, random_state = 0)"
   ]
  },
  {
   "cell_type": "code",
   "execution_count": 5,
   "metadata": {},
   "outputs": [],
   "source": [
    "imputer = SimpleImputer(strategy='mean')\n",
    "X_train_imputed = imputer.fit_transform(X_train)\n",
    "X_test_imputed = imputer.transform(X_test)\n",
    "\n",
    "param_dist = {'n_estimators': randint(50,500),\n",
    "              'max_depth': randint(1,20),\n",
    "              'min_samples_split': randint(2, 20),\n",
    "              'min_samples_leaf': randint(1, 20)}\n",
    "\n",
    "rf = RandomForestClassifier()\n",
    "hgbc = HistGradientBoostingClassifier()\n",
    "\n",
    "rand_search_rf = RandomizedSearchCV(rf, param_dist, n_iter=5, cv=5)\n",
    "rand_search_rf.fit(X_train_imputed, y_train)\n",
    "\n",
    "best_rf = rand_search_rf.best_estimator_"
   ]
  },
  {
   "cell_type": "code",
   "execution_count": 6,
   "metadata": {},
   "outputs": [],
   "source": [
    "scaler = StandardScaler()\n",
    "X_scaler = imputer.fit_transform(X_train_imputed)\n",
    "\n",
    "k = 5\n",
    "k_fold = KFold(n_splits=k)\n",
    "scores = cross_val_score(rand_search_rf, X_train_imputed, y_train, cv=k_fold) "
   ]
  },
  {
   "cell_type": "code",
   "execution_count": 8,
   "metadata": {},
   "outputs": [
    {
     "name": "stdout",
     "output_type": "stream",
     "text": [
      "Accuracy: 0.7847682119205298\n",
      "Best hyperparameters: RandomForestClassifier(max_depth=11, min_samples_leaf=9, min_samples_split=15,\n",
      "                       n_estimators=83)\n",
      "Precision promedio:  [0.80141844 0.73758865 0.68085106 0.80851064 0.77857143]\n"
     ]
    }
   ],
   "source": [
    "y_pred = rand_search_rf.predict(X_test_imputed)\n",
    "accuracy = accuracy_score(y_test, y_pred)\n",
    "print(\"Accuracy:\", accuracy)\n",
    "print('Best hyperparameters:', best_rf)\n",
    "print(\"Precision promedio: \", scores)"
   ]
  }
 ],
 "metadata": {
  "kernelspec": {
   "display_name": "Python 3",
   "language": "python",
   "name": "python3"
  },
  "language_info": {
   "codemirror_mode": {
    "name": "ipython",
    "version": 3
   },
   "file_extension": ".py",
   "mimetype": "text/x-python",
   "name": "python",
   "nbconvert_exporter": "python",
   "pygments_lexer": "ipython3",
   "version": "3.10.0"
  },
  "orig_nbformat": 4
 },
 "nbformat": 4,
 "nbformat_minor": 2
}

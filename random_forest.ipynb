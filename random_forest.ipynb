{
 "cells": [
  {
   "cell_type": "code",
   "execution_count": 1,
   "metadata": {},
   "outputs": [],
   "source": [
    "import pandas as pd\n",
    "from sklearn.ensemble import RandomForestClassifier\n",
    "from sklearn.metrics import accuracy_score\n",
    "from sklearn.model_selection import RandomizedSearchCV, train_test_split, KFold, cross_val_score \n",
    "from scipy.stats import randint\n",
    "from sklearn.impute import SimpleImputer\n",
    "from sklearn.preprocessing import StandardScaler  \n",
    "from hyperopt import fmin, tpe, hp, Trials, STATUS_OK\n"
   ]
  },
  {
   "cell_type": "code",
   "execution_count": 2,
   "metadata": {},
   "outputs": [],
   "source": [
    "ds = pd.read_csv('training.csv.txt')\n",
    "ds = ds[~ds['Diagnosis'].isin(['DPLD', 'OSA', 'Sarcodiosis','Chest Pain'])]\n",
    "ds = ds.drop(columns = ['Label'])\n",
    "ds.dropna(inplace=True)\n",
    "X_without_diagnosis = ds.drop('Diagnosis', axis = 1)\n",
    "\n",
    "\n",
    "X = X_without_diagnosis\n",
    "Y = ds['Diagnosis']\n"
   ]
  },
  {
   "cell_type": "code",
   "execution_count": 5,
   "metadata": {},
   "outputs": [
    {
     "data": {
      "text/plain": [
       "Diagnosis\n",
       "Asthma    580\n",
       "COPD      415\n",
       "Name: count, dtype: int64"
      ]
     },
     "execution_count": 5,
     "metadata": {},
     "output_type": "execute_result"
    }
   ],
   "source": [
    "ds[\"Diagnosis\"].value_counts()"
   ]
  },
  {
   "cell_type": "code",
   "execution_count": null,
   "metadata": {},
   "outputs": [],
   "source": [
    "#X_without_diagnosis.head()\n",
    "#ds.info()\n",
    "#print(ds.isnull().sum())\n",
    "#print(ds)\n",
    "#ds.head()\n",
    "ds.shape"
   ]
  },
  {
   "cell_type": "code",
   "execution_count": 3,
   "metadata": {},
   "outputs": [],
   "source": [
    "X_train, X_test, y_train, y_test = train_test_split(X, Y, test_size=0.25, random_state = 0)"
   ]
  },
  {
   "cell_type": "code",
   "execution_count": 4,
   "metadata": {},
   "outputs": [],
   "source": [
    "imputer = SimpleImputer(strategy='mean')\n",
    "X_train_imputed = imputer.fit_transform(X_train)\n",
    "X_test_imputed = imputer.transform(X_test)\n",
    "\n",
    "\n",
    "param_dist = {'n_estimators': randint(50,500),\n",
    "              'max_depth': randint(1,20),\n",
    "              'min_samples_split': randint(2, 20),\n",
    "              'min_samples_leaf': randint(1, 20)}\n",
    "\n",
    "rf = RandomForestClassifier()\n",
    "\n",
    "rand_search_rf = RandomizedSearchCV(rf, param_dist, n_iter=5, cv=5)\n",
    "rand_search_rf.fit(X_train_imputed, y_train)\n",
    "\n",
    "best_rf = rand_search_rf.best_estimator_"
   ]
  },
  {
   "cell_type": "code",
   "execution_count": 5,
   "metadata": {},
   "outputs": [
    {
     "name": "stdout",
     "output_type": "stream",
     "text": [
      "100%|██████████| 100/100 [18:05<00:00, 10.86s/trial, best loss: -0.7948545861297539]\n",
      "Best: {'max_depth': 13, 'min_samples_leaf': 1, 'min_samples_split': 3, 'n_estimators': 316}\n"
     ]
    },
    {
     "data": {
      "text/plain": [
       "[-0.7573333333333333,\n",
       " -0.7881431767337806,\n",
       " -0.776089485458613,\n",
       " -0.7733959731543625,\n",
       " -0.7827829977628635,\n",
       " -0.7827919463087248,\n",
       " -0.7720715883668904,\n",
       " -0.7694138702460851,\n",
       " -0.7828008948545861,\n",
       " -0.7854675615212529,\n",
       " -0.7787651006711409,\n",
       " -0.7787740492170022,\n",
       " -0.7720715883668904,\n",
       " -0.7827919463087248,\n",
       " -0.7747472035794184,\n",
       " -0.7693870246085011,\n",
       " -0.7801073825503355,\n",
       " -0.7747382550335571,\n",
       " -0.7653959731543624,\n",
       " -0.7801163310961969,\n",
       " -0.7747382550335571,\n",
       " -0.7841163310961969,\n",
       " -0.7640447427293064,\n",
       " -0.7908277404921701,\n",
       " -0.7868008948545862,\n",
       " -0.7747382550335571,\n",
       " -0.7894854586129755,\n",
       " -0.7707293064876957,\n",
       " -0.7694317673378077,\n",
       " -0.7908366890380314,\n",
       " -0.7868098434004475,\n",
       " -0.7787740492170021,\n",
       " -0.7492975391498882,\n",
       " -0.7600268456375838,\n",
       " -0.7881521252796421,\n",
       " -0.7720626398210291,\n",
       " -0.7693870246085012,\n",
       " -0.7693870246085011,\n",
       " -0.7787651006711409,\n",
       " -0.7734049217002237,\n",
       " -0.7841342281879194,\n",
       " -0.7854675615212529,\n",
       " -0.7774228187919464,\n",
       " -0.7787829977628634,\n",
       " -0.7680536912751679,\n",
       " -0.7653691275167785,\n",
       " -0.7774228187919463,\n",
       " -0.7693959731543625,\n",
       " -0.7559910514541387,\n",
       " -0.7774138702460849,\n",
       " -0.7479642058165548,\n",
       " -0.7827919463087248,\n",
       " -0.7760805369127517,\n",
       " -0.7774317673378077,\n",
       " -0.7787651006711409,\n",
       " -0.7854765100671142,\n",
       " -0.7734049217002237,\n",
       " -0.7854675615212529,\n",
       " -0.7774228187919463,\n",
       " -0.7854675615212529,\n",
       " -0.7800984340044743,\n",
       " -0.7720626398210291,\n",
       " -0.7627114093959732,\n",
       " -0.7801073825503355,\n",
       " -0.7680536912751678,\n",
       " -0.7774317673378075,\n",
       " -0.7827919463087248,\n",
       " -0.7841431767337808,\n",
       " -0.7801073825503356,\n",
       " -0.7948545861297539,\n",
       " -0.7774317673378075,\n",
       " -0.7854586129753915,\n",
       " -0.7774317673378075,\n",
       " -0.7841252796420581,\n",
       " -0.7747293064876958,\n",
       " -0.7814675615212529,\n",
       " -0.7707203579418345,\n",
       " -0.7787561521252796,\n",
       " -0.7586756152125279,\n",
       " -0.7479552572706936,\n",
       " -0.7787740492170021,\n",
       " -0.7693870246085011,\n",
       " -0.7720805369127517,\n",
       " -0.7841163310961969,\n",
       " -0.7787651006711409,\n",
       " -0.7720805369127517,\n",
       " -0.7841431767337808,\n",
       " -0.7828008948545861,\n",
       " -0.7760894854586129,\n",
       " -0.773413870246085,\n",
       " -0.7854586129753915,\n",
       " -0.7760715883668905,\n",
       " -0.7827919463087247,\n",
       " -0.7774228187919464,\n",
       " -0.7787472035794183,\n",
       " -0.7680626398210291,\n",
       " -0.7787740492170022,\n",
       " -0.7546666666666666,\n",
       " -0.7801073825503356,\n",
       " -0.7479642058165548]"
      ]
     },
     "execution_count": 5,
     "metadata": {},
     "output_type": "execute_result"
    }
   ],
   "source": [
    "imputer = SimpleImputer(strategy='mean')\n",
    "\n",
    "space = {\n",
    "    \"n_estimators\": hp.choice(\"n_estimators\", range(50,500)),\n",
    "    \"max_depth\": hp.choice(\"max_depth\", range(1,20)),\n",
    "    \"min_samples_split\": hp.choice(\"min_samples_split\", range(2, 20)),\n",
    "    \"min_samples_leaf\": hp.choice(\"min_samples_leaf\", range(1, 20))\n",
    "    }\n",
    "\n",
    "def hyperparameter_tuning(params):\n",
    "    rf = RandomForestClassifier(n_estimators=params['n_estimators'],\n",
    "                                max_depth=params['max_depth'],\n",
    "                                min_samples_split=params['min_samples_split'],\n",
    "                                min_samples_leaf=params['min_samples_leaf'],\n",
    "                                n_jobs=-1)\n",
    "    acc = cross_val_score(rf, X_train, y_train).mean()\n",
    "    return {\"loss\": -acc, \"status\": STATUS_OK}\n",
    "\n",
    "trials = Trials()\n",
    "\n",
    "best = fmin (\n",
    "    fn=hyperparameter_tuning,\n",
    "    space = space, \n",
    "    algo=tpe.suggest, \n",
    "    max_evals=100, \n",
    "    trials=trials\n",
    ")\n",
    "\n",
    "best_hyperparams = {\n",
    "    \"n_estimators\": range(50, 501)[best[\"n_estimators\"]],\n",
    "    \"max_depth\": range(1, 21)[best[\"max_depth\"]],\n",
    "    \"min_samples_split\": range(2, 21)[best[\"min_samples_split\"]],\n",
    "    \"min_samples_leaf\": range(1, 21)[best[\"min_samples_leaf\"]]\n",
    "}\n",
    "\n",
    "best_rf = RandomForestClassifier(**best_hyperparams, n_jobs=-1)\n",
    "best_rf.fit(X_train, y_train)\n",
    "\n",
    "print(\"Best: {}\".format(best))\n",
    "trials.results\n",
    "trials.losses()"
   ]
  },
  {
   "cell_type": "code",
   "execution_count": 6,
   "metadata": {},
   "outputs": [],
   "source": [
    "scaler = StandardScaler()\n",
    "X_scaler = imputer.fit_transform(X_train_imputed)\n",
    "\n",
    "k = 5\n",
    "k_fold = KFold(n_splits=k)\n",
    "scores = cross_val_score(rand_search_rf, X_train_imputed, y_train, cv=k_fold) "
   ]
  },
  {
   "cell_type": "code",
   "execution_count": 7,
   "metadata": {},
   "outputs": [],
   "source": [
    "scaler = StandardScaler()\n",
    "X_scaler = imputer.fit_transform(X_train)\n",
    "\n",
    "k = 5\n",
    "k_fold = KFold(n_splits=k)\n",
    "scores = cross_val_score(best_rf, X_train, y_train, cv=k_fold) "
   ]
  },
  {
   "cell_type": "code",
   "execution_count": 8,
   "metadata": {},
   "outputs": [
    {
     "name": "stdout",
     "output_type": "stream",
     "text": [
      "Accuracy: 0.751004016064257\n",
      "Best hyperparameters: RandomForestClassifier(max_depth=14, min_samples_leaf=2, min_samples_split=5,\n",
      "                       n_estimators=366, n_jobs=-1)\n",
      "Precision promedio:  [0.82666667 0.81208054 0.7852349  0.74496644 0.76510067]\n"
     ]
    }
   ],
   "source": [
    "y_pred = rand_search_rf.predict(X_test_imputed)\n",
    "accuracy = accuracy_score(y_test, y_pred)\n",
    "print(\"Accuracy:\", accuracy)\n",
    "print('Best hyperparameters:', best_rf)\n",
    "print(\"Precision promedio: \", scores)"
   ]
  },
  {
   "cell_type": "code",
   "execution_count": 9,
   "metadata": {},
   "outputs": [
    {
     "name": "stdout",
     "output_type": "stream",
     "text": [
      "Accuracy: 0.7791164658634538\n",
      "Precision promedio:  [0.82666667 0.81208054 0.7852349  0.74496644 0.76510067]\n"
     ]
    }
   ],
   "source": [
    "y_pred = best_rf.predict(X_test)\n",
    "accuracy = accuracy_score(y_test, y_pred)\n",
    "print(\"Accuracy:\", accuracy)\n",
    "#print('Best hyperparameters:', best_rf)\n",
    "print(\"Precision promedio: \", scores)"
   ]
  }
 ],
 "metadata": {
  "kernelspec": {
   "display_name": "Python 3",
   "language": "python",
   "name": "python3"
  },
  "language_info": {
   "codemirror_mode": {
    "name": "ipython",
    "version": 3
   },
   "file_extension": ".py",
   "mimetype": "text/x-python",
   "name": "python",
   "nbconvert_exporter": "python",
   "pygments_lexer": "ipython3",
   "version": "3.10.0"
  },
  "orig_nbformat": 4
 },
 "nbformat": 4,
 "nbformat_minor": 2
}

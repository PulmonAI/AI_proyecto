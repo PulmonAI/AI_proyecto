{
 "cells": [
  {
   "cell_type": "code",
   "execution_count": 9,
   "metadata": {},
   "outputs": [],
   "source": [
    "import pandas as pd\n",
    "from sklearn.ensemble import RandomForestClassifier\n",
    "from sklearn.metrics import accuracy_score\n",
    "from sklearn.model_selection import RandomizedSearchCV, train_test_split, KFold, cross_val_score \n",
    "from scipy.stats import randint\n",
    "from sklearn.impute import SimpleImputer\n",
    "from sklearn.preprocessing import StandardScaler  \n",
    "from sklearn.pipeline import Pipeline\n",
    "from hyperopt import fmin, tpe, hp, Trials, STATUS_OK\n"
   ]
  },
  {
   "cell_type": "code",
   "execution_count": 10,
   "metadata": {},
   "outputs": [],
   "source": [
    "url = \"http://dibresources.jcbose.ac.in/ssaha4/pulmopred/public/training.csv.txt\"\n",
    "ds = pd.read_csv(url)\n",
    "ds = ds[~ds['Diagnosis'].isin(['DPLD', 'OSA', 'Sarcodiosis','Chest Pain'])]\n",
    "ds = ds.drop(columns = ['Label'])\n",
    "ds.dropna(inplace=True)\n",
    "X_without_diagnosis = ds.drop('Diagnosis', axis = 1)\n",
    "\n",
    "\n",
    "X = X_without_diagnosis\n",
    "Y = ds['Diagnosis']\n"
   ]
  },
  {
   "cell_type": "code",
   "execution_count": null,
   "metadata": {},
   "outputs": [],
   "source": [
    "ds[\"Diagnosis\"].value_counts()"
   ]
  },
  {
   "cell_type": "code",
   "execution_count": null,
   "metadata": {},
   "outputs": [],
   "source": [
    "#X_without_diagnosis.head()\n",
    "#ds.info()\n",
    "#print(ds.isnull().sum())\n",
    "#print(ds)\n",
    "#ds.head()\n",
    "ds.shape"
   ]
  },
  {
   "cell_type": "code",
   "execution_count": null,
   "metadata": {},
   "outputs": [],
   "source": [
    "X_train, X_test, y_train, y_test = train_test_split(X, Y, test_size=0.25, random_state = 0)"
   ]
  },
  {
   "cell_type": "code",
   "execution_count": 11,
   "metadata": {},
   "outputs": [],
   "source": [
    "imputer = SimpleImputer(strategy='mean')\n",
    "X_train_imputed = imputer.fit_transform(X_train)\n",
    "X_test_imputed = imputer.transform(X_test)\n",
    "\n",
    "\n",
    "param_dist = {'n_estimators': randint(50,500),\n",
    "              'max_depth': randint(1,20),\n",
    "              'min_samples_split': randint(2, 20),\n",
    "              'min_samples_leaf': randint(1, 20)}\n",
    "\n",
    "rf = RandomForestClassifier()\n",
    "\n",
    "rand_search_rf = RandomizedSearchCV(rf, param_dist, n_iter=5, cv=5)\n",
    "rand_search_rf.fit(X_train_imputed, y_train)\n",
    "\n",
    "best_rf = rand_search_rf.best_estimator_"
   ]
  },
  {
   "cell_type": "code",
   "execution_count": null,
   "metadata": {},
   "outputs": [],
   "source": [
    "imputer = SimpleImputer(strategy='mean')\n",
    "\n",
    "space = {\n",
    "    \"n_estimators\": hp.choice(\"n_estimators\", range(50,500)),\n",
    "    \"max_depth\": hp.choice(\"max_depth\", range(1,20)),\n",
    "    \"min_samples_split\": hp.choice(\"min_samples_split\", range(2, 20)),\n",
    "    \"min_samples_leaf\": hp.choice(\"min_samples_leaf\", range(1, 20))\n",
    "    }\n",
    "\n",
    "def hyperparameter_tuning(params):\n",
    "    rf = RandomForestClassifier(n_estimators=params['n_estimators'],\n",
    "                                max_depth=params['max_depth'],\n",
    "                                min_samples_split=params['min_samples_split'],\n",
    "                                min_samples_leaf=params['min_samples_leaf'],\n",
    "                                n_jobs=-1)\n",
    "    acc = cross_val_score(rf, X_train, y_train).mean()\n",
    "    return {\"loss\": -acc, \"status\": STATUS_OK}\n",
    "\n",
    "trials = Trials()\n",
    "\n",
    "best = fmin (\n",
    "    fn=hyperparameter_tuning,\n",
    "    space = space, \n",
    "    algo=tpe.suggest, \n",
    "    max_evals=100, \n",
    "    trials=trials\n",
    ")\n",
    "\n",
    "best_hyperparams = {\n",
    "    \"n_estimators\": range(50, 501)[best[\"n_estimators\"]],\n",
    "    \"max_depth\": range(1, 21)[best[\"max_depth\"]],\n",
    "    \"min_samples_split\": range(2, 21)[best[\"min_samples_split\"]],\n",
    "    \"min_samples_leaf\": range(1, 21)[best[\"min_samples_leaf\"]]\n",
    "}\n",
    "\n",
    "best_rf = RandomForestClassifier(**best_hyperparams, n_jobs=-1)\n",
    "best_rf.fit(X_train, y_train)\n",
    "\n",
    "print(\"Best: {}\".format(best))\n",
    "trials.results\n",
    "trials.losses()"
   ]
  },
  {
   "cell_type": "code",
   "execution_count": 12,
   "metadata": {},
   "outputs": [],
   "source": [
    "scaler = StandardScaler()\n",
    "X_scaler = imputer.fit_transform(X_train_imputed)\n",
    "\n",
    "k = 5\n",
    "k_fold = KFold(n_splits=k)\n",
    "scores = cross_val_score(rand_search_rf, X_train_imputed, y_train, cv=k_fold) "
   ]
  },
  {
   "cell_type": "code",
   "execution_count": null,
   "metadata": {},
   "outputs": [],
   "source": [
    "scaler = StandardScaler()\n",
    "X_scaler = imputer.fit_transform(X_train)\n",
    "\n",
    "k = 5\n",
    "k_fold = KFold(n_splits=k)\n",
    "scores = cross_val_score(best_rf, X_train, y_train, cv=k_fold) "
   ]
  },
  {
   "cell_type": "code",
   "execution_count": null,
   "metadata": {},
   "outputs": [],
   "source": [
    "y_pred = rand_search_rf.predict(X_test_imputed)\n",
    "accuracy = accuracy_score(y_test, y_pred)\n",
    "print(\"Accuracy:\", accuracy)\n",
    "print('Best hyperparameters:', best_rf)\n",
    "print(\"Precision promedio: \", scores)"
   ]
  },
  {
   "cell_type": "code",
   "execution_count": null,
   "metadata": {},
   "outputs": [],
   "source": [
    "y_pred = best_rf.predict(X_test)\n",
    "accuracy = accuracy_score(y_test, y_pred)\n",
    "print(\"Accuracy:\", accuracy)\n",
    "#print('Best hyperparameters:', best_rf)\n",
    "print(\"Precision promedio: \", scores)"
   ]
  }
 ],
 "metadata": {
  "kernelspec": {
   "display_name": "Python 3",
   "language": "python",
   "name": "python3"
  },
  "language_info": {
   "codemirror_mode": {
    "name": "ipython",
    "version": 3
   },
   "file_extension": ".py",
   "mimetype": "text/x-python",
   "name": "python",
   "nbconvert_exporter": "python",
   "pygments_lexer": "ipython3",
   "version": "3.10.0"
  },
  "orig_nbformat": 4
 },
 "nbformat": 4,
 "nbformat_minor": 2
}

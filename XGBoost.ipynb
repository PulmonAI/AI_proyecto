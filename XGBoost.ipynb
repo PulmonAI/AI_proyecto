{
 "cells": [
  {
   "cell_type": "code",
   "execution_count": 1,
   "metadata": {},
   "outputs": [],
   "source": [
    "import xgboost as xgb\n",
    "import pandas as pd"
   ]
  },
  {
   "cell_type": "code",
   "execution_count": null,
   "metadata": {},
   "outputs": [],
   "source": [
    "url = \"http://dibresources.jcbose.ac.in/ssaha4/pulmopred/public/training.csv.txt\"\n",
    "ds = pd.read_csv(url)\n",
    "ds = ds[~ds['Diagnosis'].isin(['DPLD', 'OSA', 'Sarcodiosis','Chest Pain'])]\n",
    "ds = ds.drop(columns = ['Label'])\n",
    "ds.dropna(inplace=True)\n",
    "X_without_diagnosis = ds.drop('Diagnosis', axis = 1)\n",
    "\n",
    "\n",
    "X = X_without_diagnosis\n",
    "Y = ds['Diagnosis']\n"
   ]
  }
 ],
 "metadata": {
  "kernelspec": {
   "display_name": "Python 3",
   "language": "python",
   "name": "python3"
  },
  "language_info": {
   "codemirror_mode": {
    "name": "ipython",
    "version": 3
   },
   "file_extension": ".py",
   "mimetype": "text/x-python",
   "name": "python",
   "nbconvert_exporter": "python",
   "pygments_lexer": "ipython3",
   "version": "3.10.0"
  },
  "orig_nbformat": 4
 },
 "nbformat": 4,
 "nbformat_minor": 2
}
